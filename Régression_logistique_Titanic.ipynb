{
 "cells": [
  {
   "cell_type": "markdown",
   "metadata": {
    "toc": true
   },
   "source": [
    "<h1>Table of Contents<span class=\"tocSkip\"></span></h1>\n",
    "<div class=\"toc\"><ul class=\"toc-item\"><li><span><a href=\"#Une-régression-logistique-sur-le-jeu-de-données-Titanic\" data-toc-modified-id=\"Une-régression-logistique-sur-le-jeu-de-données-Titanic-1\"><span class=\"toc-item-num\">1&nbsp;&nbsp;</span>Une régression logistique sur le jeu de données Titanic</a></span><ul class=\"toc-item\"><li><span><a href=\"#Importer-les-librairies\" data-toc-modified-id=\"Importer-les-librairies-1.1\"><span class=\"toc-item-num\">1.1&nbsp;&nbsp;</span>Importer les librairies</a></span></li><li><span><a href=\"#Importer-les-données-et-commencer-à-explorer-le-dataset\" data-toc-modified-id=\"Importer-les-données-et-commencer-à-explorer-le-dataset-1.2\"><span class=\"toc-item-num\">1.2&nbsp;&nbsp;</span>Importer les données et commencer à explorer le dataset</a></span><ul class=\"toc-item\"><li><ul class=\"toc-item\"><li><span><a href=\"#Le-jeu-de-données-titanic.csv-est-chargé-dans-votre-environnement.\" data-toc-modified-id=\"Le-jeu-de-données-titanic.csv-est-chargé-dans-votre-environnement.-1.2.0.1\"><span class=\"toc-item-num\">1.2.0.1&nbsp;&nbsp;</span>Le jeu de données titanic.csv est chargé dans votre environnement.</a></span></li><li><span><a href=\"#Utiliser-les-méthodes-des-DataFrames-pour-avoir-un-premier-aperçu-de-vos-données-:-info(),-describe()-et-count()\" data-toc-modified-id=\"Utiliser-les-méthodes-des-DataFrames-pour-avoir-un-premier-aperçu-de-vos-données-:-info(),-describe()-et-count()-1.2.0.2\"><span class=\"toc-item-num\">1.2.0.2&nbsp;&nbsp;</span>Utiliser les méthodes des DataFrames pour avoir un premier aperçu de vos données : info(), describe() et count()</a></span></li></ul></li></ul></li><li><span><a href=\"#Gestion-des-valeurs-manquantes\" data-toc-modified-id=\"Gestion-des-valeurs-manquantes-1.3\"><span class=\"toc-item-num\">1.3&nbsp;&nbsp;</span>Gestion des valeurs manquantes</a></span><ul class=\"toc-item\"><li><ul class=\"toc-item\"><li><span><a href=\"#Utiliser-la-fonction-heatmap-de-seaborn-pour-visualiser-les-valeurs-manquantes-sur-un-graphique-et-identifier-les-valeurs-manquantes\" data-toc-modified-id=\"Utiliser-la-fonction-heatmap-de-seaborn-pour-visualiser-les-valeurs-manquantes-sur-un-graphique-et-identifier-les-valeurs-manquantes-1.3.0.1\"><span class=\"toc-item-num\">1.3.0.1&nbsp;&nbsp;</span>Utiliser la fonction heatmap de seaborn pour visualiser les valeurs manquantes sur un graphique et identifier les valeurs manquantes</a></span></li><li><span><a href=\"#Supprimer-les-colonnes-et/ou-lignes-qui-vous-paraissent-inutilisables\" data-toc-modified-id=\"Supprimer-les-colonnes-et/ou-lignes-qui-vous-paraissent-inutilisables-1.3.0.2\"><span class=\"toc-item-num\">1.3.0.2&nbsp;&nbsp;</span>Supprimer les colonnes et/ou lignes qui vous paraissent inutilisables</a></span></li><li><span><a href=\"#Focus-sur-l'âge-:-peu-de-valeurs-manquantes,-on-peut-donc-faire-un-peu-d'imputation\" data-toc-modified-id=\"Focus-sur-l'âge-:-peu-de-valeurs-manquantes,-on-peut-donc-faire-un-peu-d'imputation-1.3.0.3\"><span class=\"toc-item-num\">1.3.0.3&nbsp;&nbsp;</span>Focus sur l'âge : peu de valeurs manquantes, on peut donc faire un peu d'imputation</a></span></li></ul></li></ul></li><li><span><a href=\"#Analyse-de-données-:-visualisation\" data-toc-modified-id=\"Analyse-de-données-:-visualisation-1.4\"><span class=\"toc-item-num\">1.4&nbsp;&nbsp;</span>Analyse de données : visualisation</a></span></li><li><span><a href=\"#Gestion-des-variables-catégoriques\" data-toc-modified-id=\"Gestion-des-variables-catégoriques-1.5\"><span class=\"toc-item-num\">1.5&nbsp;&nbsp;</span>Gestion des variables catégoriques</a></span><ul class=\"toc-item\"><li><ul class=\"toc-item\"><li><span><a href=\"#Identifier-les-variables-catégoriques-et-les-transformer-de-sorte-à-pouvoir-les-utiliser-ensuite-dans-votre-modèle\" data-toc-modified-id=\"Identifier-les-variables-catégoriques-et-les-transformer-de-sorte-à-pouvoir-les-utiliser-ensuite-dans-votre-modèle-1.5.0.1\"><span class=\"toc-item-num\">1.5.0.1&nbsp;&nbsp;</span>Identifier les variables catégoriques et les transformer de sorte à pouvoir les utiliser ensuite dans votre modèle</a></span></li></ul></li></ul></li><li><span><a href=\"#Création-d'un-train-set-et-test-set\" data-toc-modified-id=\"Création-d'un-train-set-et-test-set-1.6\"><span class=\"toc-item-num\">1.6&nbsp;&nbsp;</span>Création d'un train set et test set</a></span></li><li><span><a href=\"#Création-du-modèle,-entraînement-et-prédictions\" data-toc-modified-id=\"Création-du-modèle,-entraînement-et-prédictions-1.7\"><span class=\"toc-item-num\">1.7&nbsp;&nbsp;</span>Création du modèle, entraînement et prédictions</a></span></li><li><span><a href=\"#Évaluation-du-modèle\" data-toc-modified-id=\"Évaluation-du-modèle-1.8\"><span class=\"toc-item-num\">1.8&nbsp;&nbsp;</span>Évaluation du modèle</a></span></li></ul></li></ul></div>"
   ]
  },
  {
   "cell_type": "markdown",
   "metadata": {},
   "source": [
    "# Une régression logistique sur le jeu de données Titanic"
   ]
  },
  {
   "cell_type": "markdown",
   "metadata": {},
   "source": [
    "## Importer les librairies"
   ]
  },
  {
   "cell_type": "markdown",
   "metadata": {},
   "source": [
    "Vous aurez besoin de pandas, matplotlib, seaborn (et numpy ?)"
   ]
  },
  {
   "cell_type": "code",
   "execution_count": null,
   "metadata": {},
   "outputs": [],
   "source": []
  },
  {
   "cell_type": "markdown",
   "metadata": {},
   "source": [
    "## Importer les données et commencer à explorer le dataset"
   ]
  },
  {
   "cell_type": "markdown",
   "metadata": {},
   "source": [
    "#### Le jeu de données titanic.csv est chargé dans votre environnement."
   ]
  },
  {
   "cell_type": "code",
   "execution_count": null,
   "metadata": {},
   "outputs": [],
   "source": []
  },
  {
   "cell_type": "markdown",
   "metadata": {},
   "source": [
    "#### Utiliser les méthodes des DataFrames pour avoir un premier aperçu de vos données : info(), describe() et count()"
   ]
  },
  {
   "cell_type": "code",
   "execution_count": null,
   "metadata": {},
   "outputs": [],
   "source": []
  },
  {
   "cell_type": "markdown",
   "metadata": {},
   "source": [
    "## Gestion des valeurs manquantes"
   ]
  },
  {
   "cell_type": "markdown",
   "metadata": {},
   "source": [
    "#### Utiliser la fonction heatmap de seaborn pour visualiser les valeurs manquantes sur un graphique et identifier les valeurs manquantes"
   ]
  },
  {
   "cell_type": "code",
   "execution_count": null,
   "metadata": {
    "scrolled": false
   },
   "outputs": [],
   "source": []
  },
  {
   "cell_type": "markdown",
   "metadata": {},
   "source": [
    "#### Supprimer les colonnes et/ou lignes qui vous paraissent inutilisables"
   ]
  },
  {
   "cell_type": "code",
   "execution_count": null,
   "metadata": {},
   "outputs": [],
   "source": []
  },
  {
   "cell_type": "code",
   "execution_count": null,
   "metadata": {},
   "outputs": [],
   "source": []
  },
  {
   "cell_type": "markdown",
   "metadata": {},
   "source": [
    "#### Focus sur l'âge : peu de valeurs manquantes, on peut donc faire un peu d'imputation"
   ]
  },
  {
   "cell_type": "markdown",
   "metadata": {},
   "source": [
    "On pourrait imputer tout simplement l'âge moyen pour toutes les valeurs manquantes. C'est une solution viable et assez simple. Mais on peut faire mieux en s'intéressant par exemple à l'âge moyen au sein de certain groupes...  \n",
    "\n",
    "Regardez en utilisant les graphiques adéquats la répartition de l'âge par classe et par sexe.\n",
    "\n",
    "Conclure sur quelle imputation serait pertinente. "
   ]
  },
  {
   "cell_type": "code",
   "execution_count": null,
   "metadata": {},
   "outputs": [],
   "source": []
  },
  {
   "cell_type": "markdown",
   "metadata": {},
   "source": [
    "Faire l'imputation choisie pour les âges manquants.  \n",
    "_Indication : une solution est de créer une fonction qui renvoie l'âge voulu selon les cas puis de l'appliquer sur les lignes avec la méthode apply_"
   ]
  },
  {
   "cell_type": "code",
   "execution_count": null,
   "metadata": {},
   "outputs": [],
   "source": []
  },
  {
   "cell_type": "markdown",
   "metadata": {},
   "source": [
    "Réafficher la visualisation des données manquantes avec heatmap. Que constatez-vous ? "
   ]
  },
  {
   "cell_type": "code",
   "execution_count": null,
   "metadata": {},
   "outputs": [],
   "source": []
  },
  {
   "cell_type": "markdown",
   "metadata": {},
   "source": [
    "Vérifier où sont les données encore manquantes avec la méthode DataFrame.info() par exemple puis supprimer les lignes concernées avec la méthode adaptée.  \n",
    "Vérifier à nouveau ce qu'il en est des valeurs manquantes avec DataFrame.count() pour changer"
   ]
  },
  {
   "cell_type": "code",
   "execution_count": null,
   "metadata": {},
   "outputs": [],
   "source": []
  },
  {
   "cell_type": "code",
   "execution_count": null,
   "metadata": {},
   "outputs": [],
   "source": []
  },
  {
   "cell_type": "markdown",
   "metadata": {},
   "source": [
    "## Analyse de données : visualisation"
   ]
  },
  {
   "cell_type": "markdown",
   "metadata": {},
   "source": [
    "Avec seaborn, afficher une série de graphiques pour avoir une idée de la répartition des variables indépendantes et visualiser les effets possibles des différentes variables indépendantes sur la survie ou non.  \n",
    "_Indication : vous pourrez regarder par exemple la distribution des âges, des tarifs et comparer sexe vs survie, classe vs survie,sibsp vs survie en utilisant les visualisations que vous souhaitez_"
   ]
  },
  {
   "cell_type": "code",
   "execution_count": null,
   "metadata": {},
   "outputs": [],
   "source": []
  },
  {
   "cell_type": "code",
   "execution_count": null,
   "metadata": {},
   "outputs": [],
   "source": []
  },
  {
   "cell_type": "code",
   "execution_count": null,
   "metadata": {},
   "outputs": [],
   "source": []
  },
  {
   "cell_type": "code",
   "execution_count": null,
   "metadata": {},
   "outputs": [],
   "source": []
  },
  {
   "cell_type": "code",
   "execution_count": null,
   "metadata": {},
   "outputs": [],
   "source": []
  },
  {
   "cell_type": "markdown",
   "metadata": {},
   "source": [
    "## Gestion des variables catégoriques"
   ]
  },
  {
   "cell_type": "markdown",
   "metadata": {},
   "source": [
    "#### Identifier les variables catégoriques et les transformer de sorte à pouvoir les utiliser ensuite dans votre modèle"
   ]
  },
  {
   "cell_type": "code",
   "execution_count": null,
   "metadata": {},
   "outputs": [],
   "source": []
  },
  {
   "cell_type": "markdown",
   "metadata": {},
   "source": [
    "## Création d'un train set et test set"
   ]
  },
  {
   "cell_type": "code",
   "execution_count": null,
   "metadata": {},
   "outputs": [],
   "source": []
  },
  {
   "cell_type": "markdown",
   "metadata": {},
   "source": [
    "## Création du modèle, entraînement et prédictions"
   ]
  },
  {
   "cell_type": "code",
   "execution_count": null,
   "metadata": {
    "scrolled": true
   },
   "outputs": [],
   "source": []
  },
  {
   "cell_type": "markdown",
   "metadata": {},
   "source": [
    "## Évaluation du modèle"
   ]
  },
  {
   "cell_type": "markdown",
   "metadata": {},
   "source": [
    "Vous pourrez utiliser la fonction classification_report, la matrice de confusion ou tout autre méthode d'évaluation du modèle."
   ]
  },
  {
   "cell_type": "code",
   "execution_count": null,
   "metadata": {},
   "outputs": [],
   "source": []
  },
  {
   "cell_type": "code",
   "execution_count": null,
   "metadata": {},
   "outputs": [],
   "source": []
  },
  {
   "cell_type": "code",
   "execution_count": null,
   "metadata": {},
   "outputs": [],
   "source": []
  }
 ],
 "metadata": {
  "kernelspec": {
   "display_name": "Python 3",
   "language": "python",
   "name": "python3"
  },
  "language_info": {
   "codemirror_mode": {
    "name": "ipython",
    "version": 3
   },
   "file_extension": ".py",
   "mimetype": "text/x-python",
   "name": "python",
   "nbconvert_exporter": "python",
   "pygments_lexer": "ipython3",
   "version": "3.7.5"
  },
  "toc": {
   "base_numbering": 1,
   "nav_menu": {},
   "number_sections": true,
   "sideBar": true,
   "skip_h1_title": false,
   "title_cell": "Table of Contents",
   "title_sidebar": "Contents",
   "toc_cell": true,
   "toc_position": {},
   "toc_section_display": true,
   "toc_window_display": true
  }
 },
 "nbformat": 4,
 "nbformat_minor": 2
}
